{
 "cells": [
  {
   "cell_type": "markdown",
   "id": "68b96a42",
   "metadata": {},
   "source": [
    "# Assignment 1 Solutions\n"
   ]
  },
  {
   "cell_type": "markdown",
   "id": "d4433828",
   "metadata": {},
   "source": [
    "#### 1. Write a Python program to print 'Hello Python'?"
   ]
  },
  {
   "cell_type": "code",
   "execution_count": 1,
   "id": "86cdce15",
   "metadata": {},
   "outputs": [
    {
     "name": "stdout",
     "output_type": "stream",
     "text": [
      "Hello Python\n"
     ]
    }
   ],
   "source": [
    "print('Hello Python')"
   ]
  },
  {
   "cell_type": "markdown",
   "id": "40e334af",
   "metadata": {},
   "source": [
    "#### 2. Write a Python program to do arithmetical operations addition and division.?\n"
   ]
  },
  {
   "cell_type": "code",
   "execution_count": 3,
   "id": "d7929fb8",
   "metadata": {},
   "outputs": [
    {
     "name": "stdout",
     "output_type": "stream",
     "text": [
      "Enter the first value10\n",
      "Enter the second value5\n",
      "Addition  15\n",
      "Division 2.0\n"
     ]
    }
   ],
   "source": [
    "a= input(\"Enter the first value\")\n",
    "b= input(\"Enter the second value\")\n",
    "c = int(a) + int(b) \n",
    "print('Addition ', c)\n",
    "c = int(a)/int(b)\n",
    "print('Division',c)"
   ]
  },
  {
   "cell_type": "markdown",
   "id": "1528f3d4",
   "metadata": {},
   "source": [
    "#### 3. Write a Python program to find the area of a triangle?"
   ]
  },
  {
   "cell_type": "code",
   "execution_count": 5,
   "id": "f5ada756",
   "metadata": {},
   "outputs": [
    {
     "name": "stdout",
     "output_type": "stream",
     "text": [
      "Enter the height of triangle: 10\n",
      "Enter the base of triangle: 20\n",
      "The Area of the triangle is: 100.0\n"
     ]
    }
   ],
   "source": [
    "h = input(\"Enter the height of triangle: \")\n",
    "b = input(\"Enter the base of triangle: \")\n",
    "area = 0.5 * int(h) * int(b)\n",
    "print(\"The Area of the triangle is:\", area)"
   ]
  },
  {
   "cell_type": "markdown",
   "id": "a178df68",
   "metadata": {},
   "source": [
    "#### 4. Write a Python program to swap two variables?\n"
   ]
  },
  {
   "cell_type": "code",
   "execution_count": 8,
   "id": "49204e98",
   "metadata": {},
   "outputs": [
    {
     "name": "stdout",
     "output_type": "stream",
     "text": [
      "Enter the value for first variable: 10\n",
      "Enter the value for second variable: 20\n",
      "Before swap 10 20\n",
      "After swap 20 10\n"
     ]
    }
   ],
   "source": [
    "def swap(a,b):\n",
    "    temp = a\n",
    "    a = b\n",
    "    b = temp\n",
    "    return a,b\n",
    "\n",
    "a = input(\"Enter the value for first variable: \")\n",
    "b = input(\"Enter the value for second variable: \")\n",
    "print(\"Before swap\",a,b)\n",
    "a,b = swap(a,b)\n",
    "print(\"After swap\",a,b)"
   ]
  },
  {
   "cell_type": "markdown",
   "id": "74835acd",
   "metadata": {},
   "source": [
    "#### 5. Write a Python program to generate a random number?"
   ]
  },
  {
   "cell_type": "code",
   "execution_count": 9,
   "id": "4049342a",
   "metadata": {},
   "outputs": [
    {
     "name": "stdout",
     "output_type": "stream",
     "text": [
      "Random number ->  13923\n",
      "Random number ->  20\n"
     ]
    }
   ],
   "source": [
    "from random import randint\n",
    "\n",
    "def generateRandomNumber(start=0, end=100000):\n",
    "    print('Random number -> ',randint(start,end))\n",
    "\n",
    "# Generating random numbers without arguments    \n",
    "generateRandomNumber()\n",
    "\n",
    "# Generating random numbers with arguments    \n",
    "generateRandomNumber(0,100)"
   ]
  }
 ],
 "metadata": {
  "kernelspec": {
   "display_name": "Python 3 (ipykernel)",
   "language": "python",
   "name": "python3"
  },
  "language_info": {
   "codemirror_mode": {
    "name": "ipython",
    "version": 3
   },
   "file_extension": ".py",
   "mimetype": "text/x-python",
   "name": "python",
   "nbconvert_exporter": "python",
   "pygments_lexer": "ipython3",
   "version": "3.9.12"
  }
 },
 "nbformat": 4,
 "nbformat_minor": 5
}
