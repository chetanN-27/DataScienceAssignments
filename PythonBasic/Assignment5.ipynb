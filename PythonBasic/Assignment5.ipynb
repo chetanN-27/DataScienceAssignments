{
 "cells": [
  {
   "cell_type": "markdown",
   "metadata": {},
   "source": [
    "# Assignment 5 Solutions"
   ]
  },
  {
   "cell_type": "markdown",
   "metadata": {},
   "source": [
    "#### 1.What does an empty dictionary's code look like?\n",
    "**Ans:** An empty dictionary is often represented by two empty curly brackets  \n",
    "`d = {}` or `d = dict()`"
   ]
  },
  {
   "cell_type": "markdown",
   "metadata": {},
   "source": [
    "#### 2.what is the value of dictionary value with key 'foo' and the value 42 ?\n",
    "**Ans:** `{'foo':42}`"
   ]
  },
  {
   "cell_type": "markdown",
   "metadata": {},
   "source": [
    "#### 3.What is the most significant distinction between a dictionary and a list?\n",
    "**Ans:** Dictionaries are represented by `{}` where as listed are represented by `[]`  \n",
    " The Items stored in a dictionary are Unordered , while the items in a list are ordered"
   ]
  },
  {
   "cell_type": "markdown",
   "metadata": {},
   "source": [
    "#### 4.What happens if you try to access spam ['foo'] if spam is {'bar':100} ?\n",
    "**Ans:** we will get a keyError `KeyError: 'foo'`"
   ]
  },
  {
   "cell_type": "markdown",
   "metadata": {},
   "source": [
    "#### 5.if a dictionary is stored in spam,what is the difference between the expressions 'cat' in spam and 'cat' in spam.keys() ?\n",
    "**Ans:** There is no difference . The operator checks whether a value exits as a key in the dictionary or not"
   ]
  },
  {
   "cell_type": "markdown",
   "metadata": {},
   "source": [
    "#### 6.if a dictionary is stored in spam,what is the difference between the expressions 'cat' in spam and 'cat' in spam.values() ?\n",
    "**Ans:**'cat' in spam checks whether there is a 'cat' key in the dictionary, while 'cat' in spam.values() checks whether there is a value 'cat' for one of the keys in spam."
   ]
  },
  {
   "cell_type": "markdown",
   "metadata": {},
   "source": [
    "#### 7.what is a shortcut for the following code ?\n",
    "`if 'color' not in spam:\n",
    "    spam['color'] ='black'`\n",
    "    \n",
    "**Ans:** `spam.setdefault('color','black')`"
   ]
  },
  {
   "cell_type": "markdown",
   "metadata": {},
   "source": [
    "#### 8.How do you 'pretty print' dictionary values using which modules and function ?\n",
    "**Ans:** we can pretty print a dictionary using three functions\n",
    "1. by using pprint() function of pprint module\n",
    "2. by using dumps() method of json module\n",
    "3. by using dumps() method of yaml module\n"
   ]
  },
  {
   "cell_type": "code",
   "execution_count": 1,
   "metadata": {},
   "outputs": [
    {
     "name": "stdout",
     "output_type": "stream",
     "text": [
      "Printing using print() function\n",
      " [{'Name': 'Hailey', 'Age': '16', 'Residence': {'Country': 'USA', 'City': 'LA'}}, {'Name': 'Alex', 'Age': '27', 'Residence': {'Country': 'Germany', 'City': 'Berlin'}}, {'Name': 'Amber', 'Age': '29', 'Residence': {'Country': 'South Korea', 'City': 'Seoul'}}, {'Name': 'Chetan', 'Age': '22', 'Residence': {'Country': 'India', 'City': 'Pune'}}]\n",
      "----------------------------------------------------------------------\n",
      "Printing using pprint() funciton\n",
      "[{'Age': '16', 'Name': 'Hailey', 'Residence': {'City': 'LA', 'Country': 'USA'}},\n",
      " {'Age': '27',\n",
      "  'Name': 'Alex',\n",
      "  'Residence': {'City': 'Berlin', 'Country': 'Germany'}},\n",
      " {'Age': '29',\n",
      "  'Name': 'Amber',\n",
      "  'Residence': {'City': 'Seoul', 'Country': 'South Korea'}},\n",
      " {'Age': '22',\n",
      "  'Name': 'Chetan',\n",
      "  'Residence': {'City': 'Pune', 'Country': 'India'}}]\n",
      "----------------------------------------------------------------------\n",
      "Printing using dumps() method\n",
      " [\n",
      "    {\n",
      "        \"Name\": \"Hailey\",\n",
      "        \"Age\": \"16\",\n",
      "        \"Residence\": {\n",
      "            \"Country\": \"USA\",\n",
      "            \"City\": \"LA\"\n",
      "        }\n",
      "    },\n",
      "    {\n",
      "        \"Name\": \"Alex\",\n",
      "        \"Age\": \"27\",\n",
      "        \"Residence\": {\n",
      "            \"Country\": \"Germany\",\n",
      "            \"City\": \"Berlin\"\n",
      "        }\n",
      "    },\n",
      "    {\n",
      "        \"Name\": \"Amber\",\n",
      "        \"Age\": \"29\",\n",
      "        \"Residence\": {\n",
      "            \"Country\": \"South Korea\",\n",
      "            \"City\": \"Seoul\"\n",
      "        }\n",
      "    },\n",
      "    {\n",
      "        \"Name\": \"Chetan\",\n",
      "        \"Age\": \"22\",\n",
      "        \"Residence\": {\n",
      "            \"Country\": \"India\",\n",
      "            \"City\": \"Pune\"\n",
      "        }\n",
      "    }\n",
      "]\n",
      "----------------------------------------------------------------------\n",
      "Printing using dump() method\n",
      " - Age: '16'\n",
      "  Name: Hailey\n",
      "  Residence:\n",
      "    City: LA\n",
      "    Country: USA\n",
      "- Age: '27'\n",
      "  Name: Alex\n",
      "  Residence:\n",
      "    City: Berlin\n",
      "    Country: Germany\n",
      "- Age: '29'\n",
      "  Name: Amber\n",
      "  Residence:\n",
      "    City: Seoul\n",
      "    Country: South Korea\n",
      "- Age: '22'\n",
      "  Name: Chetan\n",
      "  Residence:\n",
      "    City: Pune\n",
      "    Country: India\n",
      "\n"
     ]
    }
   ],
   "source": [
    "ndict = [\n",
    "  {'Name': 'Hailey', 'Age': '16', 'Residence': {'Country':'USA', 'City': 'LA'}},\n",
    "  {'Name': 'Alex', 'Age': '27', 'Residence': {'Country':'Germany', 'City': 'Berlin'}},\n",
    "  {'Name': 'Amber', 'Age': '29', 'Residence': {'Country':'South Korea', 'City': 'Seoul'}},\n",
    "  {'Name': 'Chetan', 'Age': '22', 'Residence': {'Country':'India', 'City': 'Pune'}}\n",
    "]\n",
    "\n",
    "print('Printing using print() function\\n',ndict)\n",
    "print('-'*70)\n",
    "import pprint\n",
    "print('Printing using pprint() funciton')\n",
    "pprint.pprint(ndict)\n",
    "print('-'*70)\n",
    "import json\n",
    "dump = json.dumps(ndict, indent=4)\n",
    "print('Printing using dumps() method\\n', dump)\n",
    "print('-'*70)\n",
    "import yaml\n",
    "dump = yaml.dump(ndict)\n",
    "print('Printing using dump() method\\n', dump)\n"
   ]
  },
  {
   "cell_type": "code",
   "execution_count": null,
   "metadata": {},
   "outputs": [],
   "source": []
  }
 ],
 "metadata": {
  "kernelspec": {
   "display_name": "Python 3 (ipykernel)",
   "language": "python",
   "name": "python3"
  },
  "language_info": {
   "codemirror_mode": {
    "name": "ipython",
    "version": 3
   },
   "file_extension": ".py",
   "mimetype": "text/x-python",
   "name": "python",
   "nbconvert_exporter": "python",
   "pygments_lexer": "ipython3",
   "version": "3.9.12"
  }
 },
 "nbformat": 4,
 "nbformat_minor": 4
}
